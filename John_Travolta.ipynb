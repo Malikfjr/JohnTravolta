{
  "nbformat": 4,
  "nbformat_minor": 0,
  "metadata": {
    "colab": {
      "name": "John Travolta.ipynb",
      "provenance": [],
      "collapsed_sections": []
    },
    "kernelspec": {
      "name": "python3",
      "display_name": "Python 3"
    }
  },
  "cells": [
    {
      "cell_type": "code",
      "metadata": {
        "colab": {
          "base_uri": "https://localhost:8080/",
          "height": 265
        },
        "id": "SbESi5GV-Ye5",
        "outputId": "dc4bcfdd-bd09-4bd9-a3c9-bf29f1140a6f"
      },
      "source": [
        "nama = input(\"Nama : \")\r\n",
        "jam_kerja = float(input(\"Total Jam Kerja (per Minggu) : \"))\r\n",
        "pengeluaran = float(input(\"Total Pengeluaran (per Minggu) : \"))\r\n",
        "\r\n",
        "print(f\"\\nOutput\")\r\n",
        "print(f\"------\")\r\n",
        "\r\n",
        "if jam_kerja >= 1 and jam_kerja <= 40:\r\n",
        "  pemasukan = jam_kerja*15000\r\n",
        "  if pemasukan > pengeluaran:\r\n",
        "    print(\"Pemasukan Anda sebesar Rp.{:.0f}. Anda dapat menabung!\".format(pemasukan))\r\n",
        "  elif pemasukan == pengeluaran:\r\n",
        "      print(\"Pemasukan Anda sebesar Rp.{:.0f}. Anda tidak dapat menabung!\".format(pemasukan))\r\n",
        "  else:\r\n",
        "        print(\"Pemasukan Anda sebesar Rp.{:.0f}. Silahkan cari tambahan!\".format(pemasukan))\r\n",
        "elif jam_kerja >= 41 and jam_kerja <= 168:\r\n",
        "  pemasukan = jam_kerja*15000*(3/2)\r\n",
        "  if pemasukan > pengeluaran:\r\n",
        "    print(\"Pemasukan Anda sebesar Rp.{:.0f}. Anda dapat menabung!\".format(pemasukan))\r\n",
        "  elif pemasukan == pengeluaran:\r\n",
        "      print(\"Pemasukan Anda sebesar Rp.{:.0f}. Anda tidak dapat menabung!\".format(pemasukan))\r\n",
        "  else:\r\n",
        "        print(\"Pemasukan Anda sebesar Rp.{:.0f}. Silahkan cari tambahan!\".format(pemasukan))\r\n",
        "else:\r\n",
        "  print(\"Maaf, Total Jam Kerja yang Anda masukan tidak masuk akal\")"
      ],
      "execution_count": null,
      "outputs": [
        {
          "output_type": "stream",
          "text": [
            "Nama : 2144\n",
            "Total Jam Kerja (per Minggu) : rrrr\n"
          ],
          "name": "stdout"
        },
        {
          "output_type": "error",
          "ename": "ValueError",
          "evalue": "ignored",
          "traceback": [
            "\u001b[0;31m---------------------------------------------------------------------------\u001b[0m",
            "\u001b[0;31mValueError\u001b[0m                                Traceback (most recent call last)",
            "\u001b[0;32m<ipython-input-11-b14120d5715b>\u001b[0m in \u001b[0;36m<module>\u001b[0;34m()\u001b[0m\n\u001b[1;32m      1\u001b[0m \u001b[0mnama\u001b[0m \u001b[0;34m=\u001b[0m \u001b[0minput\u001b[0m\u001b[0;34m(\u001b[0m\u001b[0;34m\"Nama : \"\u001b[0m\u001b[0;34m)\u001b[0m\u001b[0;34m\u001b[0m\u001b[0;34m\u001b[0m\u001b[0m\n\u001b[0;32m----> 2\u001b[0;31m \u001b[0mjam_kerja\u001b[0m \u001b[0;34m=\u001b[0m \u001b[0mfloat\u001b[0m\u001b[0;34m(\u001b[0m\u001b[0minput\u001b[0m\u001b[0;34m(\u001b[0m\u001b[0;34m\"Total Jam Kerja (per Minggu) : \"\u001b[0m\u001b[0;34m)\u001b[0m\u001b[0;34m)\u001b[0m\u001b[0;34m\u001b[0m\u001b[0;34m\u001b[0m\u001b[0m\n\u001b[0m\u001b[1;32m      3\u001b[0m \u001b[0mpengeluaran\u001b[0m \u001b[0;34m=\u001b[0m \u001b[0mfloat\u001b[0m\u001b[0;34m(\u001b[0m\u001b[0minput\u001b[0m\u001b[0;34m(\u001b[0m\u001b[0;34m\"Total Pengeluaran (per Minggu) : \"\u001b[0m\u001b[0;34m)\u001b[0m\u001b[0;34m)\u001b[0m\u001b[0;34m\u001b[0m\u001b[0;34m\u001b[0m\u001b[0m\n\u001b[1;32m      4\u001b[0m \u001b[0;34m\u001b[0m\u001b[0m\n\u001b[1;32m      5\u001b[0m \u001b[0mprint\u001b[0m\u001b[0;34m(\u001b[0m\u001b[0;34mf\"\\nOutput\"\u001b[0m\u001b[0;34m)\u001b[0m\u001b[0;34m\u001b[0m\u001b[0;34m\u001b[0m\u001b[0m\n",
            "\u001b[0;31mValueError\u001b[0m: could not convert string to float: 'rrrr'"
          ]
        }
      ]
    }
  ]
}